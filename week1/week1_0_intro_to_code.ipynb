{
 "cells": [
  {
   "cell_type": "markdown",
   "metadata": {
    "id": "bSLxrJUNV1Dg"
   },
   "source": [
    "# **NEU - PPUA6202 Python for Public Policy**\n",
    "\n",
    "Instructor: Shiqin Liu (Shirley)"
   ]
  },
  {
   "cell_type": "markdown",
   "metadata": {
    "id": "IzMXjwOFV1Dh"
   },
   "source": [
    "# Module 0: Intro to programming and Python\n",
    "\n",
    "## 1. Welcome to the course!\n",
    "This course is intended for graduate students in public policy and related fields who have little or no programming experience. It aims to provide students with an understanding of the Python programming language and introduce toolkits for use in public and nonprofit sector settings. This course proceeds from the ground up, and introduces all of the necessary concepts along the way. Students of all backgrounds are welcome if they are ready to put in the hard work to acquire new skills on a weekly basis!"
   ]
  },
  {
   "cell_type": "markdown",
   "metadata": {},
   "source": [
    "Before you start this module, you should complete:\n",
    "- Read through the syllabus\n",
    "- Software installation \n",
    "    - Atom\n",
    "    - Anaconda\n",
    "- The assigned reading materials\n",
    "    - Read the [JupyterLab](https://jupyterlab.readthedocs.io/) getting started and user guide sections.\n",
    "    - [markdown tutorial](https://commonmark.org/help/)\n",
    "    - Programming: Pick up Python: https://www-nature-com.ezp1.lib.umn.edu/news/programming-pick-up-python-1.16833\n",
    "    - Why I push for Python: http://lorenabarba.com/blog/why-i-push-for-python/; \n",
    "    - Why Python is Powerful: https://www.codefellows.org/blog/5-reasons-why-python-is-powerful-enough-for-google\n",
    "- Introduction in the discussion board on Canvas\n",
    "    - Name (what you go by)\n",
    "    - What you're studying\n",
    "    - Tell me a little why you are interested in the course \n",
    "- Complete the course pre-survey"
   ]
  },
  {
   "cell_type": "markdown",
   "metadata": {
    "id": "sO5hh_NIV1Dj"
   },
   "source": [
    "### Homework\n",
    "\n",
    "- **Reading:** Complete the required reading materials that are assigned that week, these materials will help you understand the lecture and online module.\n",
    "- **Coding assignment:** Complete Python coding exercises that uses the concepts covered in the lecture that week.\n",
    "- **Final project:** Complete at final week of the semester, this require students to ask a critical policy question and use relevant data and practical tools learned from this course to help answer your question. People who learn to code are those who find a project they’re passionate about which requires coding. So, find a problem you care about!\n",
    " "
   ]
  },
  {
   "cell_type": "markdown",
   "metadata": {},
   "source": [
    "### Textbook and course materials\n",
    "\n",
    "Coursework will be based on free open-source software.\n",
    "\n",
    "- Downey AB. Think Python: How to Think Like a Computer Scientist, Second Edition, Version 2e. (Green Tea Press and O’Reilly, 2018). This is an open textbook, available for free at GreenTeaPress.com/wp/think-python-2e/.\n",
    "\n",
    "- McKinney, W., & Safari, Python for Data Analysis (O'Reilly Media Company, 2012). Available as e-book from NEU library \n",
    "\n",
    "\n",
    "Other copyrighted course reading materials are available via the course website for enrolled students to download. "
   ]
  },
  {
   "cell_type": "markdown",
   "metadata": {},
   "source": [
    "## 2. Introduction to programming\n",
    "\n",
    "- Programming: using a computer language to solve a problem.\n",
    "\n",
    "- A program is to computers as a recipe is to cooking:\n",
    "   - **Statement** - an instruction: \"dice an onion\"\n",
    "   - **Source Code** - a collected set of programming statements: a recipe for Mom's onion soup\n",
    "   - **Run** - means execute the source code: \"Let's make this soup\"\n"
   ]
  },
  {
   "cell_type": "markdown",
   "metadata": {},
   "source": [
    "- As Allen Downey explains in Think Python, the main elements of a program are:\n",
    "    - **input**: Get data from the keyboard, a ﬁle, or some other device.\n",
    "    - **output**: Display data on the screen or send data to a ﬁle or other device.\n",
    "    - **math**: Perform basic mathematical operations like addition and multiplication.\n",
    "    - **conditional execution**: Check for certain conditions and execute the appropriate code.\n",
    "    - **repetition**: Perform some action repeatedly, usually with some variation.  \n",
    "    \n",
    "\"Every program you’ve ever used, no matter how complicated, is made up of instructions that look pretty much like these.\n",
    "So you can think of programming as the process of breaking a large, complex task into smaller and smaller subtasks until the subtasks are simple enough to be performed with one of these basic instructions.\""
   ]
  },
  {
   "cell_type": "markdown",
   "metadata": {
    "id": "tHrIpRFnV1Dk"
   },
   "source": [
    "- Spreadsheets vs. programming languages\n",
    "    - why spreadsheets: easy to use, mostly just have to point, click, and scroll, blackbox\n",
    "    - why programming: more powerful, flexible, expressive, and transparant; Better at working with large data; reusable code (packages); automation and more!"
   ]
  },
  {
   "cell_type": "markdown",
   "metadata": {
    "id": "UG5CUbu2V1Dl"
   },
   "source": [
    "## 2. Introduction to Python\n",
    "\n",
    "- Python is a general-purpose programming language, Programming != Python\n",
    "    - Widely used in both industry and academia; popular for data analysis and data science\n",
    "    - Relatively easy to learn\n",
    "        - Python is a beginner-friendly programming language with a relatively simple learning curve and a wide variety of resources and community\n",
    "        - The syntax is similar to English\n",
    "    - Open source\n",
    "        - Open-source software is a type of computer software in which source code is released under a license in which the copyright holder grants users the rights to use, study, change, and distribute the software to anyone and for any purpose.   \n",
    "          \n",
    "- Python can be run in:\n",
    "    1. A text file as a python script, using the `python` command at the command line\n",
    "        - Python scripts are text files stored on disk (with .py as the suffix), containing Python statements and comments. Running such scripts means to have the Python interpreter parse the statements and execute them one at a time, from top to bottom.\n",
    "    2. The interactive Python interpreter / command prompt / shell\n",
    "        - Go to [python.org/shell](https://www.python.org/shell/)\n",
    "        - Try the following math (after typing each line, press `Enter` to submit):\n",
    "            1. `1 + 1`\n",
    "            1. `10 / 4`\n",
    "            1. `10 / 3`\n",
    "    3. A Jupyter Notebook\n",
    "        - a handy interface that runs in your web browser, with a mixture of headings, text, and code embedded in the Notebook.\n",
    "        - What we will be using for this class (like this notebook you are reading now!)\n",
    "        - [Google Colab](https://colab.research.google.com): a web based programming environment\n"
   ]
  },
  {
   "cell_type": "markdown",
   "metadata": {},
   "source": [
    "### 2.1 Python Basics\n",
    "- **Indentation**\n",
    "    - Tabs or spaces (pick one and be consistent)\n",
    "    - Used to designate a block of code\n",
    "    - Python convention is to use 4 spaces\n",
    "      \n",
    "- **Comments**\n",
    "    - Hashtag #IgnoreMe From '#' to end-of-line\n",
    "    - Comments are not executed\n",
    "    - Add non-obvious information to source\n",
    "    - Cannot span lines\n",
    "    - Make it a habit to always comment on your code (add useful comments, not obvious one)\n",
    "    \n",
    "- **Statements**\n",
    "    - Instructions to do something\n",
    "    - One per line\n",
    "    \n",
    "See [Style Guide for Python Code](https://www.python.org/dev/peps/pep-0008/#naming-conventions)\n",
    "See below for example:"
   ]
  },
  {
   "cell_type": "code",
   "execution_count": 3,
   "metadata": {},
   "outputs": [
    {
     "name": "stdout",
     "output_type": "stream",
     "text": [
      "n: 0\n",
      "r: 24\n"
     ]
    }
   ],
   "source": [
    "# This is a comment, so the computer will skip whatever I write after the # \n",
    "# This is written in a code cell.\n",
    "\n",
    "# This is statements example \n",
    "# A statement is an instruction that the Python interpreter can execute\n",
    "n = 4\n",
    "r = 1\n",
    "while n > 0:\n",
    "    r = r * n\n",
    "    n = n - 1\n",
    "\n",
    "print(\"n:\", n)\n",
    "print(\"r:\", r)\n"
   ]
  },
  {
   "cell_type": "markdown",
   "metadata": {},
   "source": [
    "Press the ▶️ button (or `Control`+`Enter`, or `Shift`+`Enter` on your keyboard) to run the code above\n"
   ]
  },
  {
   "cell_type": "markdown",
   "metadata": {
    "id": "etpFu4rrV1Dn"
   },
   "source": [
    "## 3. The Python notebook and Jupyter\n"
   ]
  },
  {
   "cell_type": "markdown",
   "metadata": {},
   "source": [
    "### The Python Notebook"
   ]
  },
  {
   "cell_type": "markdown",
   "metadata": {},
   "source": [
    "The material is presented in an interactive environment that runs within your web browser, called a notebook. It allows presentation of text and graphics to be combined with Python code that can be run interactively, with the results appearing inline. We are looking at a notebook now."
   ]
  },
  {
   "cell_type": "markdown",
   "metadata": {
    "id": "bKowxolbV1Dn"
   },
   "source": [
    "### Command line vs. Jupyter\n",
    "\n",
    "![com_jup.PNG](com_jup.png)"
   ]
  },
  {
   "cell_type": "markdown",
   "metadata": {},
   "source": [
    "### Starting a Python Notebook\n",
    "\n",
    "In this course, we will use [JupyterLab](https://jupyterlab.readthedocs.io/en/stable/getting_started/overview.html), a next-generation web-based user interface for Project Jupyter, enabling you to work with documents and activities such as Jupyter notebooks, text editors, terminals, and custom components in a flexible, integrated, and extensible manner."
   ]
  },
  {
   "cell_type": "markdown",
   "metadata": {},
   "source": [
    "To begin using a notebook, you need to launch a command prompt.  In Windows, you can click on 'Start' and then type into the text box 'cmd' and press enter, to launch a shell window.  On a mac, you can launch the terminal app.  Once you have a command prompt, navigate (change directory) to whatever directory you want to work in. If you have a folder where you want to store notebooks, cd to that location, and type:\n",
    "\n",
    "`jupyter lab`\n",
    "\n",
    "Once you do this, and Jupyter Lab opens up in your browser, you can either load an existing notebook or create a new one.\n",
    "\n",
    "The first programming command demonstrated when you are learning a programming language is usually to make the computer print 'Hello World!'.  In Python, doing this is pretty simple:"
   ]
  },
  {
   "cell_type": "code",
   "execution_count": 6,
   "metadata": {
    "collapsed": false,
    "jupyter": {
     "outputs_hidden": false
    }
   },
   "outputs": [
    {
     "name": "stdout",
     "output_type": "stream",
     "text": [
      "Hello World!\n"
     ]
    }
   ],
   "source": [
    "print('Hello World!')"
   ]
  },
  {
   "cell_type": "markdown",
   "metadata": {
    "id": "ikKsSOFjV1Dn"
   },
   "source": [
    "### Jupyter basics\n",
    "\n",
    "A \"cell\" can be either code or [Markdown](https://www.markdownguide.org/getting-started/) (text). "
   ]
  },
  {
   "cell_type": "markdown",
   "metadata": {
    "id": "zNvG5PPdV1Dn"
   },
   "source": [
    "#### Running\n",
    "\n",
    "- You \"run\" a cell by either:\n",
    "    - Pressing the ▶️ button\n",
    "    - Pressing `Control`+`Enter` on your keyboard\n",
    "- Cells don't run unless you tell them to, in the order you do so\n",
    "    - Generally, you want to do so from the top every time you open a notebook"
   ]
  },
  {
   "cell_type": "markdown",
   "metadata": {
    "id": "uavS_9qYV1Do"
   },
   "source": [
    "#### Output\n",
    "\n",
    "- The last thing in a code cell is what gets displayed when it's run\n",
    "- The output gets saved as part of the notebook\n",
    "- Just because there's existing output from a cell, doesn't mean that cell has been run during this session"
   ]
  },
  {
   "cell_type": "markdown",
   "metadata": {},
   "source": [
    "## Other free extracurricular resources\n",
    "If you want to learn more about Python coding outside this course:\n",
    "- [Kaggle](https://www.kaggle.com/) is a data science platform that has various [tutorials](https://www.kaggle.com/learn/overview)\n",
    "- [Google free Python course](https://developers.google.com/edu/python/)\n",
    "- [Coursera Python for Everyone](https://www.coursera.org/specializations/python?ranMID=40328&ranEAID=JVFxdTr9V80&ranSiteID=JVFxdTr9V80-fwSoEguGNMCN2_5FsMMV7g&siteID=JVFxdTr9V80-fwSoEguGNMCN2_5FsMMV7g&utm_content=10&utm_medium=partners&utm_source=linkshare&utm_campaign=JVFxdTr9V80): it is free-to-audit\n",
    "- [Linkedin Learning](https://www.linkedin.com/learning/topics/python?u=74653650) has many good Python courses, that is free to you if you login with your NEU credential\n"
   ]
  },
  {
   "cell_type": "markdown",
   "metadata": {},
   "source": [
    "## If you have questions:\n",
    "- Check the reading, lecture materials or Python Documentation\n",
    "- Ask Google: \"Python 3 how do I nnnn\"\n",
    "- Search and read carefully on StackOverflow for the topic/problem (for example, the name of the function you are struggling with or the error message), see [How to create a Minimal, Reproducible Example](https://stackoverflow.com/help/minimal-reproducible-example)\n",
    "- Post on discussion forum on Canvas with a detailed description of what you are trying to do, what is not working\n",
    "- Email or Office hours by appointment\n"
   ]
  },
  {
   "cell_type": "code",
   "execution_count": null,
   "metadata": {},
   "outputs": [],
   "source": []
  }
 ],
 "metadata": {
  "celltoolbar": "Slideshow",
  "colab": {
   "name": "lecture_0.ipynb",
   "provenance": []
  },
  "file_extension": ".py",
  "kernelspec": {
   "display_name": "Python 3",
   "language": "python",
   "name": "python3"
  },
  "language_info": {
   "codemirror_mode": {
    "name": "ipython",
    "version": 3
   },
   "file_extension": ".py",
   "mimetype": "text/x-python",
   "name": "python",
   "nbconvert_exporter": "python",
   "pygments_lexer": "ipython3",
   "version": "3.6.7"
  },
  "mimetype": "text/x-python",
  "name": "python",
  "npconvert_exporter": "python",
  "pygments_lexer": "ipython3",
  "version": 3
 },
 "nbformat": 4,
 "nbformat_minor": 4
}
