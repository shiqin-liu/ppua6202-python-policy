{
 "cells": [
  {
   "cell_type": "markdown",
   "metadata": {},
   "source": [
    "# Assignment 2\n",
    "\n",
    "Due on next Monday night by 23:59pm via Canvas submission.\n",
    "\n",
    "In this assignment, you will need to follow the instructions in this Jupyter notebook to work with loops, conditionals, iteration, and functions. Review *Think Python* section 4.8 to develop a plan and section 6.2 on incremental development. Also review the code in the notebook from this class session.  \n",
    "\n",
    "Make sure your entire notebook runs properly and without any errors. Click Kernel > Restart > Clear all outputs and restart. This clears your memory and re-initializes your notebook. Then click Cell > Run all and make sure everything behaves properly.  \n",
    "\n",
    "Give your them meaningful filenames like `your-lastname-assignment2.ipynb`. Submit your notebook as Assignment 2 by next Monday night 23:59pm via Canvas submission.\n"
   ]
  },
  {
   "cell_type": "markdown",
   "metadata": {},
   "source": [
    "## 1. Write a function to calculate the area of a circle that accept a diameter as an argument   \n",
    "The formula for calculating the area of a circle is A = π*r^2 where pi (π) equals approximately 3.14 and the radius (r) is half the diameter."
   ]
  },
  {
   "cell_type": "code",
   "execution_count": null,
   "metadata": {},
   "outputs": [],
   "source": [
    "def circle_area(d):\n",
    "    \"\"\"Return the area of a circle with a given diameter d\n",
    "    \"\"\"\n",
    "    # write your code here\n",
    "    \n",
    "\n",
    "# print the answer for a circle with diameter=6\n",
    "print(circle_area(6))"
   ]
  },
  {
   "cell_type": "markdown",
   "metadata": {},
   "source": [
    "## 2. Write a function to count the number of negative numbers in a list \n"
   ]
  },
  {
   "cell_type": "code",
   "execution_count": null,
   "metadata": {},
   "outputs": [],
   "source": [
    "def count_negatives(nums):\n",
    "    \"\"\"Return the number of negative numbers in the given list nums.\n",
    "    \"\"\"\n",
    "    # write your code here\n",
    "\n",
    "\n",
    "print(count_negatives([5, -1, -2, 0, 3])) # hint: the answer should return 2"
   ]
  },
  {
   "cell_type": "markdown",
   "metadata": {},
   "source": [
    "## 2. Write functions to work with prime number applying loops, conditions and iteration"
   ]
  },
  {
   "cell_type": "markdown",
   "metadata": {},
   "source": [
    "A prime number is any whole number greater than 1 that has no positive divisors besides 1 and itself. So, a prime number a) must be an integer, b) must be greater than 1, and c) must be divisible only by 1 and itself.\n"
   ]
  },
  {
   "cell_type": "markdown",
   "metadata": {},
   "source": [
    "   1. Write a function `is_prime(n)` that accepts an argument n and returns boolean True if n is a prime number and boolean False if n is not prime. For example, `is_prime(11)` should return True and `is_prime(12)` should return False."
   ]
  },
  {
   "cell_type": "code",
   "execution_count": null,
   "metadata": {},
   "outputs": [],
   "source": [
    "def is_prime(n):\n",
    "    \"\"\"Returns boolean True if n is a prime number and boolean False if n is not prime\n",
    "    \"\"\"\n",
    "    # write your code here\n",
    "\n",
    "\n",
    "print(is_prime(11)) # hint: this should return true\n",
    "print(is_prime(12)) # hint: this should return false"
   ]
  },
  {
   "cell_type": "markdown",
   "metadata": {},
   "source": [
    "   2. Write a function `print_primes(n)` that accepts an argument n and prints all the prime numbers between 0 and n (inclusive). This function should call the `is_prime` function you developed earlier. For example, `print_primes(13)` should print out: 2 3 5 7 11 13\n"
   ]
  },
  {
   "cell_type": "code",
   "execution_count": null,
   "metadata": {},
   "outputs": [],
   "source": [
    "def print_primes(n):\n",
    "    \"\"\"Return all the prime numbers between 0 and n (inclusive), seperated by space. \n",
    "    \"\"\"\n",
    "    # write your code here\n",
    "\n",
    "            \n",
    "print_primes(13) # hint: this should return 2 3 5 7 11 13"
   ]
  },
  {
   "cell_type": "code",
   "execution_count": null,
   "metadata": {},
   "outputs": [],
   "source": []
  }
 ],
 "metadata": {
  "kernelspec": {
   "display_name": "Python 3",
   "language": "python",
   "name": "python3"
  },
  "language_info": {
   "codemirror_mode": {
    "name": "ipython",
    "version": 3
   },
   "file_extension": ".py",
   "mimetype": "text/x-python",
   "name": "python",
   "nbconvert_exporter": "python",
   "pygments_lexer": "ipython3",
   "version": "3.6.7"
  }
 },
 "nbformat": 4,
 "nbformat_minor": 4
}
