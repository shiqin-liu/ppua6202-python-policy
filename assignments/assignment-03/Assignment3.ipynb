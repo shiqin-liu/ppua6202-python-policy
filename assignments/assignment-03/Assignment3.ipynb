{
 "cells": [
  {
   "cell_type": "markdown",
   "metadata": {},
   "source": [
    "# Python for Policy\n",
    "# Assignment 3\n",
    "\n",
    "Due next Monday night by 23:59pm via Canvas submission.\n",
    "\n",
    "In this assignment, you will need to follow the instructions in this Jupyter notebook to work with a data set from ACS containing population data for all US counties.\n",
    "\n",
    "1. Create a new, clean Jupyter notebook to contain your submission. The first cell in your notebook should be a markdown cell containing a plain-English narrative of the a) logic you will need to code and b) how your development process corresponds to *Think Python* sections 4.8 and 6.2. Use this narrative to think through how you will tackle each piece of the assignment in straightforward language. \n",
    "2. Download the acs_data_county_US.csv from Canvas, and save it to your working directory.\n",
    "3. Using the acs_data_county_US.csv file and the pandas techniques we've learned, do the following:\n",
    "   1. Load the data file and clean the population fields: replace all missing value with 0, and make each variable a float type\n",
    "   2. Divide the \"geodisplaylabel\" column into two seperate column named \"countyname\" and \"statename\". The \"countyname\" column should contain only county name (e.g. Autauga County), and the \"statename\" column should contain only state name (e.g. Alabama) \n",
    "   3. Create new columns and calculate the percentage of white, black, nativeindian, asian and hispanic population for each county (with intuitive field names of your choice). \n",
    "   4. Create a subset dataframe with counties containing population between 500,000 and 1 million, and answer the question: How many counties are within the state of Massachusetts?\n",
    "\n",
    "Make sure your entire notebook runs properly and without any errors. Click Kernel > Restart > Clear all outputs and restart. This clears your memory and re-initializes your notebook. Then click Cell > Run all and make sure everything behaves properly. Give it meaningful filenames like `your-lastname-assignment3.ipynb`. \n",
    "\n"
   ]
  },
  {
   "cell_type": "code",
   "execution_count": null,
   "metadata": {},
   "outputs": [],
   "source": []
  }
 ],
 "metadata": {
  "kernelspec": {
   "display_name": "Python 3",
   "language": "python",
   "name": "python3"
  },
  "language_info": {
   "codemirror_mode": {
    "name": "ipython",
    "version": 3
   },
   "file_extension": ".py",
   "mimetype": "text/x-python",
   "name": "python",
   "nbconvert_exporter": "python",
   "pygments_lexer": "ipython3",
   "version": "3.6.7"
  }
 },
 "nbformat": 4,
 "nbformat_minor": 4
}
