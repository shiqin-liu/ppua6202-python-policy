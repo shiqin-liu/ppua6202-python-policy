{
 "cells": [
  {
   "cell_type": "markdown",
   "metadata": {},
   "source": [
    "# Module 8: GIS and mapping"
   ]
  },
  {
   "cell_type": "markdown",
   "metadata": {},
   "source": [
    "**In this module, we will learn the basics of working with spatial data and conducting spatial network analysis.**\n",
    "\n",
    "More specifically, we will introduce the following tools:\n",
    "\n",
    "1. Basic spatial data and GIS operations using [geopandas](https://geopandas.org/), which spatializes pandas dataframes. It uses the [shapely](https://shapely.readthedocs.io/en/latest/manual.html) package for geometry.\n",
    "2. Spatial network modeling and analysis with [OSMnx](https://osmnx.readthedocs.io), which allows you to download, model, analyze, and visualize street networks (and other spatial data) anywhere in the world from [OpenStreetMap](https://www.openstreetmap.org/#map=4/38.01/-95.84), an open source geodatabase that provides freely accessible spatial data worldwide.\n",
    "\n",
    "\n",
    "This module has two major sections:  \n",
    "1. [Working with spatial data with geopandas](#spatialdata)\n",
    "2. [Spatial network](#spatialnetwork)\n",
    "\n",
    "Relevant readings:  \n",
    "- Gimond. 2021. Intro to GIS and Spatial Analysis, ch. 1, 2, 9. [Direct link](https://mgimond.github.io/Spatial/introGIS.html).\n",
    "- Boeing and Arribas-Bel. 2021. GIS and Computational Notebooks. In: The Geographic Information Science & Technology Body of Knowledge, edited by J.P. Wilson. [Direct link](https://gistbok.ucgis.org/bok-topics/gis-and-computational-notebooks)\n",
    "- Kontokosta. 2018. Urban Informatics in the Science and Practice of Planning. Journal of Planning Education and Research. [Direct link](https://journals.sagepub.com/doi/10.1177/0739456X18793716).\n",
    "- O'Sullivan. 2014. Spatial Network Analysis. Handbook of Regional Science, edited by Fischer and Nijkamp. [Direct link](https://link.springer.com/referenceworkentry/10.1007%2F978-3-642-23430-9_67)\n",
    "\n"
   ]
  },
  {
   "cell_type": "code",
   "execution_count": null,
   "metadata": {},
   "outputs": [],
   "source": [
    "import pandas as pd\n",
    "import geopandas as gpd\n",
    "import osmnx as ox\n",
    "\n",
    "%matplotlib inline"
   ]
  },
  {
   "cell_type": "markdown",
   "metadata": {},
   "source": [
    "<a id='spatialdata'></a>\n",
    "# 1. Working with spatial data"
   ]
  },
  {
   "cell_type": "markdown",
   "metadata": {},
   "source": [
    "## 1.1 What is GIS?\n",
    "\n",
    "GIS stands for geographic information system, a multi-component environment used to create, manage, visualize and analyze data and its spatial counterpart. Points, Lines and Polygons are three basic spatial elements of GIS vector data. GIS software lets you work with spatial data, that is, data associated with locations on the Earth. These locations are represented with coordinates: longitude (x), latitude (y), and often elevation (z). With GIS software you can collect, edit, query, analyze, and visualize spatial data. Examples of GIS software include ArcGIS, QGIS, and GeoPandas. \n",
    "\n"
   ]
  },
  {
   "cell_type": "markdown",
   "metadata": {},
   "source": [
    "## 1.2 Spatial data and GeoPandas\n",
    "\n",
    "You can use a GIS software like ArcGIS or QGIS to open a spatial data file (typically a shapefile, GeoJSON file, or CSV file with lat-long columns). Today we'll introduce the basic concepts of spatial data and GIS operations using geopandas, an open source project to make working with geospatial data in Python. We'll focus on common, shared concepts and operations.\n",
    "\n",
    "### 1.2a Loading a shapefile\n",
    "\n",
    "A shapefile is a folder containing multiple files with spatial geometry, attribute data, projection information, etc: https://en.wikipedia.org/wiki/Shapefile\n",
    "\n",
    "Where to get census shapefiles? https://www.census.gov/cgi-bin/geo/shapefiles/index.php\n",
    "\n"
   ]
  },
  {
   "cell_type": "code",
   "execution_count": null,
   "metadata": {},
   "outputs": [],
   "source": [
    "# tell geopandas to read a shapefile with its read_file() function, passing in the shapefile folder\n",
    "# this produces a GeoDataFrame\n",
    "# the data I am using here contain all US county polygon\n",
    "gdf = gpd.read_file('../data/cb_2013_us_county_5m/cb_2013_us_county_5m.shp')\n",
    "gdf.shape"
   ]
  },
  {
   "cell_type": "code",
   "execution_count": null,
   "metadata": {},
   "outputs": [],
   "source": [
    "# just like regular pandas, see the first 5 rows of the GeoDataFrame\n",
    "# this is a shapefile of polygon geometries, that is, county boundaries\n",
    "gdf.head()"
   ]
  },
  {
   "cell_type": "code",
   "execution_count": null,
   "metadata": {},
   "outputs": [],
   "source": [
    "# mapping is as easy as calling the GeoDataFrame's plot method\n",
    "ax = gdf.plot()"
   ]
  },
  {
   "cell_type": "code",
   "execution_count": null,
   "metadata": {},
   "outputs": [],
   "source": [
    "# just like in regular pandas, we can filter and subset the GeoDataFrame\n",
    "# exclude counties in island states\n",
    "island = gdf['STATEFP'].isin(['15','69','66','02','72','60', '78'])\n",
    "gdf_county = gdf[~island]\n",
    "\n",
    "gdf_county.shape"
   ]
  },
  {
   "cell_type": "code",
   "execution_count": null,
   "metadata": {},
   "outputs": [],
   "source": [
    "# what is the CRS?\n",
    "# this derives from the shapefile's .prj file\n",
    "# always make sure the shapefile you load has prj info so you get a CRS attribute!\n",
    "gdf_county.crs"
   ]
  },
  {
   "cell_type": "markdown",
   "metadata": {},
   "source": [
    "When we loaded the shapefile, geopandas loaded the CRS from the shapefile itself. But if you are loading a CSV file with lat lon geometry that is not explicitly spatial and it contains no CRS data, remember that you should always define the CRS manually.  \n",
    "\n",
    "You need to look up an appropriate map projection (https://en.wikipedia.org/wiki/Map_projection) for the spatial extents of your data/map. This is a huge topic in and of itself, so for today we'll just focus on some (over-simplified) rules of thumb:\n",
    "\n",
    "  1. If you're mapping global data, choose a global projection like [Mercator](https://spatialreference.org/ref/sr-org/16/) or [Robinson](https://spatialreference.org/ref/esri/54030/)\n",
    "  1. If you're mapping national data, choose a national projection like [epsg:2163](https://spatialreference.org/ref/epsg/2163/) for the US\n",
    "\n",
    "https://spatialreference.org/ is a good resource. There you can click the \"proj4\" link on any CRS's page to get a string you can use with geopandas.\n",
    "\n",
    "Here in this case, I project the my county data to 'epsg:2163', a CRS appropriate for projecting USA data:"
   ]
  },
  {
   "cell_type": "code",
   "execution_count": null,
   "metadata": {},
   "outputs": [],
   "source": [
    "# define a CRS appropriate for projecting USA data\n",
    "usa_crs = 'epsg:2163'\n",
    "\n",
    "gdf_county_proj = gdf_county.to_crs(usa_crs)"
   ]
  },
  {
   "cell_type": "markdown",
   "metadata": {},
   "source": [
    "**Be careful**: heed the difference between `gdf.crs` and `gdf.to_crs()`. The first tells you the geodataframe's current CRS. The latter projects the geodataframe to a new CRS."
   ]
  },
  {
   "cell_type": "code",
   "execution_count": null,
   "metadata": {},
   "outputs": [],
   "source": [
    "# plot the projected county\n",
    "ax = gdf_county_proj.plot()"
   ]
  },
  {
   "cell_type": "markdown",
   "metadata": {},
   "source": [
    "### 1.2b Loading a CSV file\n",
    "\n",
    "Here, we load a csv file with county-level demographic data from ACS, we want to merge this with the county shapefile in order to map those data"
   ]
  },
  {
   "cell_type": "code",
   "execution_count": null,
   "metadata": {
    "collapsed": false,
    "jupyter": {
     "outputs_hidden": false
    }
   },
   "outputs": [],
   "source": [
    "# load acs county-level data as a regular pandas dataframe\n",
    "# this is not spatial data as it has no geometry defined in the dataframe\n",
    "df = pd.read_csv('../data/us_county_acs_data.csv')\n",
    "df.shape"
   ]
  },
  {
   "cell_type": "code",
   "execution_count": null,
   "metadata": {},
   "outputs": [],
   "source": [
    "df.head()"
   ]
  },
  {
   "cell_type": "code",
   "execution_count": null,
   "metadata": {},
   "outputs": [],
   "source": [
    "df.columns"
   ]
  },
  {
   "cell_type": "markdown",
   "metadata": {},
   "source": [
    "### 1.2c. Merge data (using pandas (non-spatial) merge)"
   ]
  },
  {
   "cell_type": "code",
   "execution_count": null,
   "metadata": {},
   "outputs": [],
   "source": [
    "# now we have two dataset, one is the county level shapefile, the other is the csv file containing county-level demographic data\n",
    "# we can perform merge using pandas based on their common field (county code) to combine the two dataset\n",
    "# make sure the same data type of the common field\n",
    "gdf_county_proj['GEOID'] = gdf_county_proj['GEOID'].astype(int)\n",
    "gdf_county_proj = gdf_county_proj.set_index('GEOID').sort_values(by='GEOID')\n",
    "\n",
    "df['fips'] = df['fips'].astype(int)\n",
    "df = df.set_index('fips').sort_values(by='fips')\n",
    "\n",
    "df_data = pd.merge(left=df, right=gdf_county_proj, how='inner', left_index=True, right_index=True)"
   ]
  },
  {
   "cell_type": "code",
   "execution_count": null,
   "metadata": {},
   "outputs": [],
   "source": [
    "# create a new geopandas geodataframe manually from the pandas dataframe\n",
    "gdf_data = gpd.GeoDataFrame(df_data)\n",
    "gdf_data.columns"
   ]
  },
  {
   "cell_type": "markdown",
   "metadata": {},
   "source": [
    "Now we have the geodataframe with county polygon geometry and the demographic data we want to map"
   ]
  },
  {
   "cell_type": "markdown",
   "metadata": {},
   "source": [
    "## 1.3 Mapping"
   ]
  },
  {
   "cell_type": "code",
   "execution_count": null,
   "metadata": {},
   "outputs": [],
   "source": [
    "# map using GeoDataFrame plot method with some style configurations\n",
    "ax = gdf_data.plot(column='Total Population',\n",
    "                        cmap='YlOrBr', edgecolor='k', lw=0.2, scheme='quantiles',\n",
    "                        figsize=(9,6), legend=True)\n",
    "\n",
    "# turn the \"axis\" off and save to disk\n",
    "ax.axis('off')\n",
    "ax.get_figure().savefig('pop.png', dpi=300, bbox_inches='tight')"
   ]
  },
  {
   "cell_type": "code",
   "execution_count": null,
   "metadata": {},
   "outputs": [],
   "source": [
    "#alternatively, you could use matplotlib for more plotting features\n",
    "import matplotlib.pyplot as plt\n",
    "\n",
    "fig, ax = plt.subplots(figsize=(10, 10))\n",
    "ax = gdf_data.plot(ax=ax, column='inclu_index', scheme='NaturalBreaks', k=6, cmap='YlOrBr', edgecolor='white', linewidth=0.5, legend=True, legend_kwds={'loc': 'lower left'})\n",
    "ax.set_title('Racial Inclusion Index', fontsize=15)\n",
    "\n",
    "ax.set_axis_off()\n",
    "\n",
    "#fig.savefig('inclusion_index.png', dpi=600)\n",
    "plt.show()"
   ]
  },
  {
   "cell_type": "markdown",
   "metadata": {},
   "source": [
    "##### Racial inclusion  \n",
    "| variables | measure | definition |  \n",
    "|---- | --- | --- |  \n",
    "| perc_minor | Percentage of color | Percentage of population made up by people of color |  \n",
    "| raceedu_gap | Racial education gap | Racial disparities in education |\n",
    "| race_homeownergap | Homeownership gap | Racial disparities in access to capital and wealth building opportunities |\n",
    "| race_povertygap | Poverty gap | Racial disparities in economic depravation | \n",
    "\n",
    "Disclaimer: These indicators have not been fact-checked, they are what I calculated based on the method published by [Urban Institute](https://apps.urban.org/features/inclusion/?topic=map) for illutrating the mapping features in this module "
   ]
  },
  {
   "cell_type": "code",
   "execution_count": null,
   "metadata": {},
   "outputs": [],
   "source": [
    "cols = ['perc_minor', 'raceedu_gap', 'race_homeowngap', 'race_povertygap']\n",
    "\n",
    "fig, axes = plt.subplots(nrows=2, ncols=2, figsize=(20, 15))\n",
    "\n",
    "for ax, col in zip(axes.flatten(), cols): \n",
    "    ax = gdf_data.plot(ax=ax, column=col, scheme='quantiles', k=6, cmap='YlOrBr', \n",
    "                       edgecolor='white', linewidth=0.5, legend=True, legend_kwds={'loc': 'lower left'})\n",
    "    ax.set_title(col, fontsize=15)\n",
    "    ax.set_axis_off()\n",
    "\n",
    "# add a title to the figure\n",
    "fig.suptitle('Figure 1: Spatial distribution of race inclusion indicators \\n by U.S. Counties, 2015', y=0.95, fontsize=20, weight='bold')\n",
    "fig.text(0.1, 0, 'Note: Scheme=quantiles; Unit=US county; Source=Census Bureau', fontsize=18)\n",
    "\n",
    "#fig.savefig('race_inclusion.png', dpi=200)\n",
    "\n",
    "plt.show()"
   ]
  },
  {
   "cell_type": "markdown",
   "metadata": {},
   "source": [
    "**What stories can you tell from the above maps**"
   ]
  },
  {
   "cell_type": "markdown",
   "metadata": {},
   "source": [
    "### Choosing color\n",
    "https://matplotlib.org/users/colormaps.html\n",
    "\n",
    "Easy rules to (usually) pick a good color map:\n",
    "\n",
    "- if you have data values rising from some baseline to some maximum, use a perceptually uniform sequential color map.\n",
    "- if you have data values diverging in both directions from some meaningful center point (e.g., center is zero and values can range positive or negative) then use a diverging color map\n",
    "- avoid rainbow/jet color maps"
   ]
  },
  {
   "cell_type": "markdown",
   "metadata": {},
   "source": [
    "### Geometric operations\n",
    "https://geopandas.org/docs/user_guide/geometric_manipulations.html\n",
    "\n",
    "GIS and spatial analysis use common \"computational geometry\" operations, such as intersects, within, and dissolve:\n",
    "\n",
    "  - *intersects* tells you if each geometry in one dataset intersects with some other (single) geometry\n",
    "  - *within* tells you if each geometry in one dataset is within some other (single) geometry\n",
    "  - *dissolve* lets you aggregate data (merge their geometries together) if they share some attribute in common: this is the spatial equivalent of pandas's groupby function\n",
    "  \n",
    "If you want to learn more, check out [Geopandas example gallery](https://geopandas.org/gallery/index.html)"
   ]
  },
  {
   "cell_type": "markdown",
   "metadata": {},
   "source": [
    "The Census API recently published [censusviz package](https://pypi.org/project/censusviz/) to help map Census data in Python via Census Population Estimate API and the Census Cartographic GeoJSON boundary files"
   ]
  },
  {
   "cell_type": "markdown",
   "metadata": {},
   "source": [
    "<a id='spatialnetwork'></a>\n",
    "# 2. Spatial network analysis and OSMnx\n",
    "\n",
    "A network is a set of objects (called nodes or vertices) connected to each other by a set of connections (called edges or links). A graph is a mathematical model of a network: usually used synonymously. You can represent a graph as an adjacency matrix to use the tools of linear algebra to analyze it. \n",
    "\n",
    "A spatial network is a network that is spatially embedded. That means its nodes and/or edges have locations in space. A spatial network is defined by both its geometry (positions, distances, angles, etc) and its topology (connections and configurations). \n",
    "\n",
    "Examples:\n",
    "\n",
    "  - street networks\n",
    "  - airline routes\n",
    "  - rail lines"
   ]
  },
  {
   "cell_type": "markdown",
   "metadata": {},
   "source": [
    "We introduce a spatial network analysis tool OSMnx, which is built on top of GeoPandas, NetworkX, and matplotlib and interacts with OpenStreetMap’s APIs.\n",
    "\n",
    "More info:\n",
    "\n",
    "  - [OSMnx documentation](https://osmnx.readthedocs.io)\n",
    "  - [Examples, demos, tutorials](https://github.com/gboeing/osmnx-examples)"
   ]
  },
  {
   "cell_type": "markdown",
   "metadata": {},
   "source": [
    "## 2.1 Download and plot street network"
   ]
  },
  {
   "cell_type": "code",
   "execution_count": null,
   "metadata": {},
   "outputs": [],
   "source": [
    "# model the walkable network within our original study site with OSMnx\n",
    "place = 'Brookline, Massachusetts, USA'\n",
    "\n",
    "# or make query an unambiguous dict to help the geocoder find specifically what you're looking for\n",
    "place = {'city' : 'Brookline',\n",
    "         'state' : 'Massachusetts',\n",
    "         'country' : 'USA'}\n",
    "\n",
    "G_walk = ox.graph_from_place(place, network_type='walk')\n",
    "fig, ax = ox.plot_graph(G_walk)"
   ]
  },
  {
   "cell_type": "markdown",
   "metadata": {},
   "source": [
    "OSMnx geocodes the query \"Brookline, Massachusetts, USA\" to retrieve the place boundaries of that city from the Nominatim API, retrieves the walkable street network data within those boundaries from the Overpass API, constructs a graph model, then simplifies/corrects its topology such that nodes represent intersections and dead-ends and edges represent the street segments linking them.   \n"
   ]
  },
  {
   "cell_type": "code",
   "execution_count": null,
   "metadata": {},
   "outputs": [],
   "source": [
    "# you can get networks anywhere in the world\n",
    "G = ox.graph_from_place('Vic, Spain', network_type='all')\n",
    "fig, ax = ox.plot_graph(G, node_size=0, edge_linewidth=0.5)"
   ]
  },
  {
   "cell_type": "code",
   "execution_count": null,
   "metadata": {},
   "outputs": [],
   "source": [
    "# or get network by address, coordinates, bounding box, or any custom polygon\n",
    "# ...useful when OSM just doesn't already have a polygon for the place you want\n",
    "NEU = (42.339949425548006, -71.08910732918775)  #search in the google map for the lat lon\n",
    "one_mile = 1609 #meters\n",
    "G = ox.graph_from_point(NEU, dist=one_mile, network_type='drive')\n",
    "fig, ax = ox.plot_graph(G, node_size=0)"
   ]
  },
  {
   "cell_type": "markdown",
   "metadata": {},
   "source": [
    "You can use this feature to get spatial street network basically anywhere around the world from OpenStreetMap. Try a place you know in your hometown (but note that for large urban areas, it could take hours to load the network!).\n",
    "\n",
    "Other examples of getting networks by coordinates, bounding box, or any custom polygon shape: https://github.com/gboeing/osmnx-examples/blob/master/notebooks/01-overview-osmnx.ipynb"
   ]
  },
  {
   "cell_type": "code",
   "execution_count": null,
   "metadata": {},
   "outputs": [],
   "source": [
    "# let's get back to the walkable network for the study site\n",
    "type(G_walk)"
   ]
  },
  {
   "cell_type": "markdown",
   "metadata": {},
   "source": [
    "OSMnx models all networks as NetworkX `MultiDiGraph` objects. You can convert to:\n",
    "\n",
    "  - undirected NetworkX MultiGraphs\n",
    "  - NetworkX DiGraphs without (possible) parallel edges\n",
    "  - GeoPandas node/edge GeoDataFrames"
   ]
  },
  {
   "cell_type": "code",
   "execution_count": null,
   "metadata": {},
   "outputs": [],
   "source": [
    "# convert your graph to node and edge GeoPandas GeoDataFrames\n",
    "# extract node/edge GeoDataFrames, retaining only necessary columns \n",
    "nodes = ox.graph_to_gdfs(G_walk, edges=False)[['x', 'y']]\n",
    "edges = ox.graph_to_gdfs(G_walk, nodes=False).reset_index()[['u', 'v']]"
   ]
  },
  {
   "cell_type": "code",
   "execution_count": null,
   "metadata": {},
   "outputs": [],
   "source": [
    "nodes.head()"
   ]
  },
  {
   "cell_type": "code",
   "execution_count": null,
   "metadata": {},
   "outputs": [],
   "source": [
    "edges.head()"
   ]
  },
  {
   "cell_type": "markdown",
   "metadata": {},
   "source": [
    "You can create a graph from node/edge GeoDataFrames, as long as gdf_nodes is indexed by osmid and gdf_edges is multi-indexed by u, v, key (following normal MultiDiGraph structure). This allows you to load graph node/edge shapefiles or GeoPackage layers as GeoDataFrames then convert to a MultiDiGraph for graph analytics."
   ]
  },
  {
   "cell_type": "markdown",
   "metadata": {},
   "source": [
    "## 2.2 Get any geospatial entities' geometries and attributes\n",
    "\n",
    "Use the `geometries` module to download entities, such as local amenities, points of interest, or building footprints, and turn them into a GeoDataFrame.  \n"
   ]
  },
  {
   "cell_type": "code",
   "execution_count": null,
   "metadata": {},
   "outputs": [],
   "source": [
    "# get all building footprints in some neighborhood\n",
    "place = 'Fenway park, Boston, Massachusetts'\n",
    "\n",
    "tags = {'building': True}\n",
    "gdf = ox.geometries_from_place(place, tags)\n",
    "\n",
    "fig, ax = ox.plot_footprints(gdf, figsize=(3, 3))"
   ]
  },
  {
   "cell_type": "code",
   "execution_count": null,
   "metadata": {},
   "outputs": [],
   "source": [
    "# get all parks and bus stops in some neighborhood\n",
    "place = 'Boston, Massachusetts, USA'\n",
    "\n",
    "tags = {'leisure': 'park',\n",
    "        'highway': 'bus_stop'}\n",
    "\n",
    "gdf = ox.geometries_from_place(place, tags)\n",
    "gdf.shape"
   ]
  },
  {
   "cell_type": "markdown",
   "metadata": {},
   "source": [
    "For more information about OSM taginfo and key value pairs, see https://wiki.openstreetmap.org/wiki/Tags#Keys_and_values and https://taginfo.openstreetmap.org/"
   ]
  },
  {
   "cell_type": "code",
   "execution_count": null,
   "metadata": {},
   "outputs": [],
   "source": [
    "# restaurants near the school\n",
    "address = '360 Huntington Ave, Boston, MA 02115'\n",
    "tags = {'amenity' : 'restaurant'}\n",
    "gdf = ox.geometries_from_address(address, tags=tags, dist=500)\n",
    "gdf[['name', 'cuisine', 'geometry']].dropna().head()"
   ]
  },
  {
   "cell_type": "code",
   "execution_count": null,
   "metadata": {},
   "outputs": [],
   "source": [
    "gdf.plot()"
   ]
  },
  {
   "cell_type": "markdown",
   "metadata": {},
   "source": [
    "For more information about OSM taginfo and key value pairs, see https://wiki.openstreetmap.org/wiki/Tags#Keys_and_values and https://taginfo.openstreetmap.org/"
   ]
  },
  {
   "cell_type": "code",
   "execution_count": null,
   "metadata": {},
   "outputs": [],
   "source": [
    "import matplotlib.pyplot as plt \n",
    "\n",
    "#add basemap\n",
    "import contextily as ctx\n",
    "\n",
    "def add_basemap(ax, zoom, source='http://tile.stamen.com/terrain/tileZ/tileX/tileY.png'):\n",
    "    xmin, xmax, ymin, ymax = ax.axis()\n",
    "    basemap, extent = ctx.bounds2img(xmin, ymin, xmax, ymax, zoom=zoom, source=source)\n",
    "    ax.imshow(basemap, extent=extent, interpolation='bilinear')\n",
    "    # restore original x/y limits\n",
    "    ax.axis((xmin, xmax, ymin, ymax))\n",
    "    \n",
    "# define the project to work with the basemap\n",
    "gdf_proj = gdf.to_crs(epsg=3857)\n",
    "\n",
    "fig, ax = plt.subplots(figsize=(5, 5))\n",
    "ax = gdf_proj.plot(ax=ax, marker='+', markersize=60, alpha=0.9)\n",
    "add_basemap(ax, zoom=15, source=ctx.sources.ST_TONER_LITE)\n",
    "ax.set_axis_off()"
   ]
  },
  {
   "cell_type": "markdown",
   "metadata": {},
   "source": [
    "## 2.3 Routing - shortest path analysis"
   ]
  },
  {
   "cell_type": "code",
   "execution_count": null,
   "metadata": {},
   "outputs": [],
   "source": [
    "# impute missing edge speeds then calculate edge (free-flow) travel times\n",
    "G = ox.add_edge_speeds(G)\n",
    "G = ox.add_edge_travel_times(G)"
   ]
  },
  {
   "cell_type": "code",
   "execution_count": null,
   "metadata": {},
   "outputs": [],
   "source": [
    "# get the nearest network nodes to two lat/lng points\n",
    "snell_library = (42.338, -71.088)\n",
    "MFA = (42.339, -71.093)\n",
    "\n",
    "# get the nearest network nodes to two lat/lng points with the distance module\n",
    "orig = ox.distance.nearest_nodes(G, X=-71.088, Y=42.338)\n",
    "dest = ox.distance.nearest_nodes(G, X=-71.093, Y=42.339)"
   ]
  },
  {
   "cell_type": "code",
   "execution_count": null,
   "metadata": {},
   "outputs": [],
   "source": [
    "# find the shortest path between nodes, minimizing travel time, then plot it\n",
    "route = ox.shortest_path(G, orig, dest, weight=\"travel_time\")\n",
    "fig, ax = ox.plot_graph_route(G, route, node_size=0)"
   ]
  },
  {
   "cell_type": "code",
   "execution_count": null,
   "metadata": {},
   "outputs": [],
   "source": [
    "# how long is our route in meters?\n",
    "edge_lengths = ox.utils_graph.get_route_edge_attributes(G, route, \"length\")\n",
    "round(sum(edge_lengths))"
   ]
  },
  {
   "cell_type": "markdown",
   "metadata": {},
   "source": [
    "You can do many things with OSMnx, please take a look at https://github.com/gboeing/osmnx-examples/blob/main/notebooks/00-osmnx-features-demo.ipynb for other features and more [example notebooks](https://github.com/gboeing/osmnx-examples)  \n",
    "\n",
    "Take a look at this interesting publication for spatial analysis using OSMnx, written using the notebook:  \n",
    "Boeing, G. (2020) [Urban Street Network Analysis in a Computational Notebook](https://openjournals.wu.ac.at/ojs/index.php/region/article/view/278), REGION, 6(3), pp. 39-51. doi: 10.18335/region.v6i3.278."
   ]
  },
  {
   "cell_type": "markdown",
   "metadata": {},
   "source": [
    "## This week's assignment - Assignment5\n",
    "\n",
    "In this assignment, you will get your hands on spatial data. Follow the instructions available Canvas module for this week. \n",
    "\n",
    "Consider using dataset(s) and doing the analysis that would benefit your final project (but it is not required).\n"
   ]
  },
  {
   "cell_type": "code",
   "execution_count": null,
   "metadata": {},
   "outputs": [],
   "source": []
  }
 ],
 "metadata": {
  "kernelspec": {
   "display_name": "Python (ppua6202)",
   "language": "python",
   "name": "ppua6202"
  },
  "language_info": {
   "codemirror_mode": {
    "name": "ipython",
    "version": 3
   },
   "file_extension": ".py",
   "mimetype": "text/x-python",
   "name": "python",
   "nbconvert_exporter": "python",
   "pygments_lexer": "ipython3",
   "version": "3.6.13"
  }
 },
 "nbformat": 4,
 "nbformat_minor": 4
}
